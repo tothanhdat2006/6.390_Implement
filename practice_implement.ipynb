{
  "nbformat": 4,
  "nbformat_minor": 0,
  "metadata": {
    "colab": {
      "provenance": []
    },
    "kernelspec": {
      "name": "python3",
      "display_name": "Python 3"
    },
    "language_info": {
      "name": "python"
    }
  },
  "cells": [
    {
      "cell_type": "code",
      "execution_count": null,
      "metadata": {
        "id": "ksChZ0X27u89"
      },
      "outputs": [],
      "source": [
        "import numpy as np\n",
        "import matplotlib.pyplot as plt"
      ]
    },
    {
      "cell_type": "markdown",
      "source": [
        "# ***W1+2: Linear Regression***"
      ],
      "metadata": {
        "id": "AeYtzHaKM6yr"
      }
    },
    {
      "cell_type": "code",
      "source": [
        "theta = np.array([[0.3]])\n",
        "theta_0 = 1"
      ],
      "metadata": {
        "id": "5NnlbUIpGA82"
      },
      "execution_count": null,
      "outputs": []
    },
    {
      "cell_type": "code",
      "source": [
        "def f_reg(X):\n",
        "  return 0.05 * X**2 - 0.5*X + 1.5\n",
        "\n",
        "X = np.random.randint(1, 30, 20)\n",
        "y = f_reg(X)"
      ],
      "metadata": {
        "id": "PiwUjyVpHD0m"
      },
      "execution_count": null,
      "outputs": []
    },
    {
      "cell_type": "code",
      "source": [
        "y_pred = (theta * X + theta_0).flatten()\n",
        "\n",
        "plt.plot(X, y, 'o', label='Original data')\n",
        "plt.plot(X, y_pred, '-', label='Fitted line')\n",
        "plt.xlabel(\"X\")\n",
        "plt.ylabel(\"y\")\n",
        "plt.legend()\n",
        "plt.show()"
      ],
      "metadata": {
        "colab": {
          "base_uri": "https://localhost:8080/",
          "height": 449
        },
        "id": "cqfEpNkBKGGo",
        "outputId": "f1637e02-0d69-48c8-808b-58eb7000c7cb"
      },
      "execution_count": null,
      "outputs": [
        {
          "output_type": "display_data",
          "data": {
            "text/plain": [
              "<Figure size 640x480 with 1 Axes>"
            ],
            "image/png": "[encoded data removed]"
          },
          "metadata": {}
        }
      ]
    },
    {
      "cell_type": "code",
      "source": [
        "X = X.reshape(-1, 1) #n x 1"
      ],
      "metadata": {
        "id": "MM3Ixv4jMRU1"
      },
      "execution_count": null,
      "outputs": []
    },
    {
      "cell_type": "code",
      "source": [
        "X.shape, theta.shape"
      ],
      "metadata": {
        "colab": {
          "base_uri": "https://localhost:8080/"
        },
        "id": "Ew2QeYRyGT8t",
        "outputId": "3d1d50c7-77a4-4433-b919-9adcbd1d74d6"
      },
      "execution_count": null,
      "outputs": [
        {
          "output_type": "execute_result",
          "data": {
            "text/plain": [
              "((20, 1), (1, 1))"
            ]
          },
          "metadata": {},
          "execution_count": 6
        }
      ]
    },
    {
      "cell_type": "markdown",
      "source": [
        "## **Training error (RMSE) for linear regression**"
      ],
      "metadata": {
        "id": "_v6Ti-lSQhs8"
      }
    },
    {
      "cell_type": "code",
      "source": [
        "n = X.shape[0]\n",
        "y_pred = theta.T @ X + theta_0"
      ],
      "metadata": {
        "colab": {
          "base_uri": "https://localhost:8080/",
          "height": 159
        },
        "id": "IylMZitbLiSk",
        "outputId": "a7aa86df-f536-499d-e685-24cac25ca445"
      },
      "execution_count": null,
      "outputs": [
        {
          "output_type": "error",
          "ename": "ValueError",
          "evalue": "shapes (1,1) and (20,1) not aligned: 1 (dim 1) != 20 (dim 0)",
          "traceback": [
            "\u001b[0;31m---------------------------------------------------------------------------\u001b[0m",
            "\u001b[0;31mValueError\u001b[0m                                Traceback (most recent call last)",
            "\u001b[0;32m<ipython-input-7-e3a9c5ce967c>\u001b[0m in \u001b[0;36m<cell line: 2>\u001b[0;34m()\u001b[0m\n\u001b[1;32m      1\u001b[0m \u001b[0mn\u001b[0m \u001b[0;34m=\u001b[0m \u001b[0mX\u001b[0m\u001b[0;34m.\u001b[0m\u001b[0mshape\u001b[0m\u001b[0;34m[\u001b[0m\u001b[0;36m0\u001b[0m\u001b[0;34m]\u001b[0m\u001b[0;34m\u001b[0m\u001b[0;34m\u001b[0m\u001b[0m\n\u001b[0;32m----> 2\u001b[0;31m \u001b[0my_pred\u001b[0m \u001b[0;34m=\u001b[0m \u001b[0mtheta\u001b[0m\u001b[0;34m.\u001b[0m\u001b[0mT\u001b[0m\u001b[0;34m.\u001b[0m\u001b[0mdot\u001b[0m\u001b[0;34m(\u001b[0m\u001b[0mX\u001b[0m\u001b[0;34m)\u001b[0m \u001b[0;34m+\u001b[0m \u001b[0mtheta_0\u001b[0m\u001b[0;34m\u001b[0m\u001b[0;34m\u001b[0m\u001b[0m\n\u001b[0m",
            "\u001b[0;31mValueError\u001b[0m: shapes (1,1) and (20,1) not aligned: 1 (dim 1) != 20 (dim 0)"
          ]
        }
      ]
    },
    {
      "cell_type": "markdown",
      "source": [
        "`prompt: hint to write traning error of linear regression (no code)`\n",
        "\n",
        "import numpy as np\n",
        "The training error of a linear regression model is typically calculated as the mean squared error (MSE) between the predicted values (y_pred) and the actual values (y) in your training dataset.  You've already got most of the pieces:\n",
        "\n",
        "1. **Calculate the difference between predicted and actual values:**  `y_pred - y`\n",
        "\n",
        "2. **Square the differences:**  `(y_pred - y)**2`\n",
        "\n",
        "3. **Sum the squared differences:** `np.sum((y_pred - y)**2)`\n",
        "\n",
        "4. **Divide by the number of data points (n):** `1/n * ...`\n",
        "\n",
        "You're very close with the code you've already written! The issue lies in how you're using `theta`.  You need to ensure the matrix multiplication is correctly sized and that you're adding `theta_0` correctly.  Review the dimensions of `theta` and `X`, and how you incorporate the intercept (`theta_0`).\n"
      ],
      "metadata": {
        "id": "0iHwod8hOXmX"
      }
    },
    {
      "cell_type": "code",
      "source": [
        "y_pred = theta.T @ X.T + theta_0"
      ],
      "metadata": {
        "id": "7HkINNicMrml"
      },
      "execution_count": null,
      "outputs": []
    },
    {
      "cell_type": "markdown",
      "source": [
        "### Mistake 1: transpose X because of wrong dimension when initialized"
      ],
      "metadata": {
        "id": "ZSgVcovaQSiH"
      }
    },
    {
      "cell_type": "code",
      "source": [
        "def RMSE_1(theta, theta_0, X, y):\n",
        "  X = X.reshape(-1, 1) #n x 1\n",
        "  y_pred = theta.T @ X.T + theta_0\n",
        "  n = X.shape[0]\n",
        "  mse = (1 / n) * np.sum((y_pred.flatten() - y)**2)\n",
        "  return mse\n",
        "\n",
        "# Example usage:\n",
        "error = RMSE_1(theta, theta_0, X, y)\n",
        "print(f\"Training Error (MSE): {error}\")"
      ],
      "metadata": {
        "colab": {
          "base_uri": "https://localhost:8080/"
        },
        "id": "P-UKJ7M1NOOB",
        "outputId": "efb2fe24-238f-499f-cade-ee5cbeeebf2b"
      },
      "execution_count": null,
      "outputs": [
        {
          "output_type": "stream",
          "name": "stdout",
          "text": [
            "Training Error (MSE): 122.37075000000004\n"
          ]
        }
      ]
    },
    {
      "cell_type": "markdown",
      "source": [
        "## **Direct Solution**"
      ],
      "metadata": {
        "id": "ji8WSMXEQPiR"
      }
    },
    {
      "cell_type": "markdown",
      "source": [
        "### Mistake 2: Careful about matrix dimension"
      ],
      "metadata": {
        "id": "S5nLbbRvZdHN"
      }
    },
    {
      "cell_type": "code",
      "source": [
        "#theta = X^(-1) * y\n",
        "def direct_linear_regression_1(X, y):\n",
        "  X = X.reshape(-1, 1)\n",
        "  X_b = np.c_[X, np.ones((len(X), 1))] #1 column for theta_0\n",
        "  theta_best = np.linalg.pinv(X_b) @ y\n",
        "  return theta_best\n",
        "\n",
        "#theta = (X^T @ X)^(-1) @ X^T @ y\n",
        "def direct_linear_regression_2(X, y):\n",
        "  X = X.reshape(-1, 1)\n",
        "  X_b = np.c_[X, np.ones((len(X), 1))] #1 column for theta_0\n",
        "  theta_best = np.linalg.inv(X_b.T @ X_b) @ X_b.T @ y #np.linalg.inv(X_b.T.dot(X_b)) may not be defined\n",
        "  return theta_best\n",
        "\n",
        "def RMSE_1_rewrite(theta, X, y):\n",
        "  theta_0 = theta[1]\n",
        "  theta = np.delete(np.array(theta), theta.shape[0]-1) #delete last column reserved for theta_0\n",
        "  theta = np.array(theta)\n",
        "  X = X.reshape(-1, 1) #n x 1\n",
        "  n = X.shape[0]\n",
        "\n",
        "  y_pred = theta.T @ X.T + theta_0\n",
        "  mse = (1 / n) * np.sum((y_pred.flatten() - y)**2)\n",
        "  return mse\n",
        "\n",
        "#err = 1/n * (X_b @ theta - y).T @ (X_b @ theta - y)\n",
        "def RMSE_2(theta, X, y):\n",
        "  X = X.reshape(-1, 1) #n x d\n",
        "  X_b = np.c_[X, np.ones((len(X), 1))] #1 column for theta_0\n",
        "  n = X.shape[0]\n",
        "  y = y.reshape(-1, 1) #n x 1\n",
        "  theta = theta.reshape(-1, 1) #d * 1\n",
        "\n",
        "  dif = X_b @ theta - y\n",
        "  dif_T = dif.T\n",
        "  err = (1 / n) * np.sum(dif_T @ dif)\n",
        "  # print(dif)\n",
        "  # print(X_b, theta, y)\n",
        "  return err\n",
        "\n",
        "# Test RMSE function with fixed X, y and theta\n",
        "# print(RMSE_1_rewrite(np.array([1, 2]), np.array([[1, 3]]), np.array([1, 2])))\n",
        "# print(RMSE_2(np.array([1, 2]), np.array([[1, 3]]), np.array([1, 2])))\n",
        "\n",
        "# Training set\n",
        "X = np.random.randint(1, 30, 20)\n",
        "X_b = np.c_[X, np.ones((len(X), 1))]\n",
        "y = f_reg(X)\n",
        "\n",
        "# Valuation set\n",
        "X_val = np.random.randint(1, 30, 20)\n",
        "X_val_b = np.c_[X_val, np.ones((len(X_val), 1))]\n",
        "y_val = f_reg(X_val)\n",
        "\n",
        "# theta_best = direct_linear_regression_1(X, y)\n",
        "theta_best = direct_linear_regression_2(X, y)\n",
        "y_val_pred = X_val_b @ theta_best\n",
        "print(\"Optimal theta of direct solution:\", theta_best)\n",
        "print(\"Validation error of direct solution: \", RMSE_1_rewrite(theta_best, X_val, y_val))\n",
        "print(\"Validation error of direct solution: \", RMSE_2(theta_best, X_val, y_val))\n",
        "plt.subplot(2, 1, 1)\n",
        "plt.plot(X_val, y_val, 'o', label='Original data')\n",
        "plt.plot(X_val, y_val_pred, '-', label='Fitted line')\n",
        "plt.xlabel(\"X\")\n",
        "plt.ylabel(\"y\")\n",
        "plt.legend()\n",
        "plt.show()\n",
        "\n",
        "# Compare with the solution using numpy.linalg.lstsq (least squares)\n",
        "theta_best_lstsq, residuals, rank, s = np.linalg.lstsq(X_b, y, rcond=1e-6)\n",
        "y_val_pred = X_val_b @ theta_best_lstsq\n",
        "print(\"\\nOptimal theta using numpy.linalg.lstsq:\", theta_best_lstsq.flatten())\n",
        "print(\"Validation error of least square: \", RMSE_1_rewrite(theta_best_lstsq, X_val, y_val))\n",
        "print(\"Validation error of least square: \", RMSE_2(theta_best_lstsq, X_val, y_val))\n",
        "plt.subplot(2, 1, 2)\n",
        "plt.plot(X_val, y_val, 'o', label='Original data')\n",
        "plt.plot(X_val, y_val_pred, '-', label='Fitted line')\n",
        "plt.xlabel(\"X\")\n",
        "plt.ylabel(\"y\")\n",
        "plt.legend()\n",
        "plt.show()"
      ],
      "metadata": {
        "colab": {
          "base_uri": "https://localhost:8080/",
          "height": 605
        },
        "id": "ebF0XRhtPdoK",
        "outputId": "6913dcad-8807-4c4a-fc66-98ec24fd2e37"
      },
      "execution_count": null,
      "outputs": [
        {
          "output_type": "stream",
          "name": "stdout",
          "text": [
            "Optimal theta of direct solution: [ 1.00229503 -5.63308956]\n",
            "Validation error of direct solution:  12.238927492591925\n",
            "Validation error of direct solution:  12.238927492591927\n"
          ]
        },
        {
          "output_type": "display_data",
          "data": {
            "text/plain": [
              "<Figure size 640x480 with 1 Axes>"
            ],
            "image/png": "[encoded data removed]"
          },
          "metadata": {}
        },
        {
          "output_type": "stream",
          "name": "stdout",
          "text": [
            "\n",
            "Optimal theta using numpy.linalg.lstsq: [ 1.00229503 -5.63308956]\n",
            "Validation error of least square:  12.238927492591923\n",
            "Validation error of least square:  12.238927492591923\n"
          ]
        },
        {
          "output_type": "display_data",
          "data": {
            "text/plain": [
              "<Figure size 640x480 with 1 Axes>"
            ],
            "image/png": "[encoded data removed]"
          },
          "metadata": {}
        }
      ]
    },
    {
      "cell_type": "markdown",
      "source": [
        "**Same error => Correct implementation**"
      ],
      "metadata": {
        "id": "YUb3TFcQkh_4"
      }
    },
    {
      "cell_type": "markdown",
      "source": [
        "## Ridge"
      ],
      "metadata": {
        "id": "kC9qY5EzQthq"
      }
    },
    {
      "cell_type": "code",
      "source": [
        "#theta = (X^T x X)^(-1) x X^T x y\n",
        "def direct_ridge_regression(X, y, c):\n",
        "  X = X.reshape(-1, 1) #n x d\n",
        "  X_b = np.c_[X, np.ones((len(X), 1))] #1 column for theta_0\n",
        "  n, d = X.shape[0], X.shape[1]\n",
        "  theta_best = np.linalg.inv(X_b.T @ X_b + n * c * np.identity(d)) @ X_b.T @ y #np.linalg.inv(X_b.T.dot(X_b)) may not be defined\n",
        "  return theta_best\n",
        "\n",
        "def RMSE_ridge(theta, X, y, c):\n",
        "  X = X.reshape(-1, 1) #n x d\n",
        "  X_b = np.c_[X, np.ones((len(X), 1))] #1 column for theta_0\n",
        "  n = X.shape[0]\n",
        "  y = y.reshape(-1, 1) #n x 1\n",
        "  theta = theta.reshape(-1, 1) #d * 1\n",
        "\n",
        "  dif = X_b @ theta - y\n",
        "  dif_T = dif.T\n",
        "  err = 1/n * np.sum(dif_T @ dif) + c * np.linalg.norm(theta)**2\n",
        "  return err\n",
        "\n",
        "X = np.random.randint(1, 30, 20)\n",
        "y = f_reg(X)\n",
        "\n",
        "X_val = np.random.randint(1, 30, 20)\n",
        "X_val_b = np.c_[X_val, np.ones((len(X_val), 1))]\n",
        "y_val = f_reg(X_val)\n",
        "\n",
        "c = 0.01\n",
        "theta_best_normal = direct_linear_regression_2(X, y)\n",
        "y_val_pred = X_val_b @ theta_best\n",
        "print(\"Optimal theta of linear regression:\", theta_best)\n",
        "print(\"Validation error of linear regression: \", RMSE_2(theta_best, X_val, y_val))\n",
        "plt.subplot(2, 1, 1)\n",
        "plt.plot(X_val, y_val, 'o', label='Original data')\n",
        "plt.plot(X_val, y_val_pred, '-', label='Fitted line')\n",
        "plt.xlabel(\"X\")\n",
        "plt.ylabel(\"y\")\n",
        "plt.legend()\n",
        "plt.show()\n",
        "\n",
        "theta_best_ridge = direct_ridge_regression(X, y, c)\n",
        "y_val_pred = X_val_b @ theta_best_ridge\n",
        "print(\"\\nOptimal theta using ridge regression:\", theta_best_ridge.flatten())\n",
        "print(\"Validation error normal of ridge regression: \", RMSE_2(theta_best_ridge, X_val, y_val))\n",
        "print(\"Validation error ridge of ridge regression: \", RMSE_ridge(theta_best_ridge, X_val, y_val, c))\n",
        "plt.subplot(2, 1, 2)\n",
        "plt.plot(X_val, y_val, 'o', label='Original data')\n",
        "plt.plot(X_val, y_val_pred, '-', label='Fitted line')\n",
        "plt.xlabel(\"X\")\n",
        "plt.ylabel(\"y\")\n",
        "plt.legend()\n",
        "plt.show()"
      ],
      "metadata": {
        "colab": {
          "base_uri": "https://localhost:8080/",
          "height": 583
        },
        "id": "uksuqv36QtPc",
        "outputId": "a6a6bb48-e605-454a-a576-f4d752614085"
      },
      "execution_count": null,
      "outputs": [
        {
          "output_type": "stream",
          "name": "stdout",
          "text": [
            "Optimal theta of linear regression: [ 1.03766286 -7.90958662]\n",
            "Validation error of linear regression:  10.163245312570645\n"
          ]
        },
        {
          "output_type": "display_data",
          "data": {
            "text/plain": [
              "<Figure size 640x480 with 1 Axes>"
            ],
            "image/png": "[encoded data removed]"
          },
          "metadata": {}
        },
        {
          "output_type": "stream",
          "name": "stdout",
          "text": [
            "\n",
            "Optimal theta using ridge regression: [ 1.02444122 -6.26548574]\n",
            "Validation error normal of ridge regression:  9.691265569534263\n",
            "Validation error ridge of ridge regression:  10.094323483322201\n"
          ]
        },
        {
          "output_type": "display_data",
          "data": {
            "text/plain": [
              "<Figure size 640x480 with 1 Axes>"
            ],
            "image/png": "[encoded data removed]"
          },
          "metadata": {}
        }
      ]
    },
    {
      "cell_type": "markdown",
      "source": [
        "# W3: Gradient Descent"
      ],
      "metadata": {
        "id": "QHcjd_Xur3kR"
      }
    },
    {
      "cell_type": "markdown",
      "source": [
        "## Batch Gradient Descent"
      ],
      "metadata": {
        "id": "lVziaLGBl1Wd"
      }
    },
    {
      "cell_type": "code",
      "source": [
        "lr = 1e-3\n",
        "n_epochs = 1000\n",
        "theta = np.random.randn(2, 1)\n",
        "\n",
        "X = np.random.randint(1, 30, 20).reshape(-1, 1)\n",
        "X_b = np.c_[X, np.ones((len(X), 1))]\n",
        "y = f_reg(X)\n",
        "n = len(X_b)\n",
        "\n",
        "def batch_gradient_descent(theta, X, y, n_epochs = 100, lr = 1e-3):\n",
        "  X_b = np.c_[X, np.ones((len(X), 1))]\n",
        "  for epoch in range(n_epochs):\n",
        "    gradient = (2 / n) * X_b.T @ (X_b @ theta - y)\n",
        "    theta = theta - lr * gradient\n",
        "  return theta\n",
        "\n",
        "def batch_gradient_descent_2(theta, X, y, lr = 1e-3, eps = 1e-10):\n",
        "  prev_err, cur_err = 0, RMSE_2(theta, X, y)\n",
        "  X_b = np.c_[X, np.ones((len(X), 1))]\n",
        "  while cur_err - prev_err > eps:\n",
        "    prev_err = cur_err\n",
        "    gradient = (2 / n) * X_b.T @ (X_b @ theta - y)\n",
        "    theta = theta - lr * gradient\n",
        "    cur_err = RMSE_2(theta, X, y)\n",
        "  return theta\n",
        "\n",
        "print(\"Before: \", RMSE_2(theta, X, y))\n",
        "\n",
        "theta_tmp = batch_gradient_descent(theta, X, y, n_epochs, lr)\n",
        "print(\"After Batch Gradient Descent (1000 epochs): \", RMSE_2(theta_tmp, X, y))\n",
        "\n",
        "eps = 1e-18\n",
        "theta_tmp = batch_gradient_descent_2(theta, X, y, lr, eps)\n",
        "print(\"After Batch Gradient Descent (early stopping): \", RMSE_2(theta_tmp, X, y))"
      ],
      "metadata": {
        "colab": {
          "base_uri": "https://localhost:8080/"
        },
        "id": "nymtZUYAdAvL",
        "outputId": "ace60891-8307-47e5-ee1a-019c32e29659"
      },
      "execution_count": null,
      "outputs": [
        {
          "output_type": "stream",
          "name": "stdout",
          "text": [
            "Before:  19.122761730277343\n",
            "After Batch Gradient Descent (1000 epochs):  10.579746406642561\n",
            "After Batch Gradient Descent (early stopping):  15.095309659396856\n"
          ]
        }
      ]
    },
    {
      "cell_type": "markdown",
      "source": [
        "## Stochastic Gradient Descent"
      ],
      "metadata": {
        "id": "o2WFaHLSRrQa"
      }
    },
    {
      "cell_type": "code",
      "source": [
        "lr = 1e-3\n",
        "n_epochs = 1000\n",
        "theta = np.random.randn(2, 1)\n",
        "\n",
        "X = np.random.randint(1, 30, 20).reshape(-1, 1)\n",
        "X_b = np.c_[X, np.ones((len(X), 1))]\n",
        "y = f_reg(X)\n",
        "n = len(X_b)\n",
        "\n",
        "def stochastic_gradient_descent(theta, X, y, n_epochs = 100, lr = 1e-3):\n",
        "  for epoch in range(n_epochs):\n",
        "    rnd_idx = np.random.randint(len(X))\n",
        "    X_rnd, y_rnd = X[rnd_idx], y[rnd_idx]\n",
        "    X_b_rnd = np.c_[X_rnd, np.ones((len(X_rnd), 1))]\n",
        "\n",
        "    gradient = 2 * X_b_rnd.T @ (X_b_rnd @ theta - y_rnd)\n",
        "    theta = theta - lr * gradient\n",
        "  return theta\n",
        "\n",
        "print(\"Before: \", RMSE_2(theta, X, y))\n",
        "theta_b = batch_gradient_descent(theta, X, y, n_epochs, lr)\n",
        "print(\"After Batch Gradient Descent (1000 epochs): \", RMSE_2(theta_b, X, y))\n",
        "theta_s = stochastic_gradient_descent(theta, X, y, n_epochs, lr)\n",
        "print(\"After Stochastic Gradient Descent (1000 epochs): \", RMSE_2(theta_s, X, y))\n",
        "\n",
        "from sklearn.linear_model import SGDRegressor\n",
        "sgd_reg = SGDRegressor(max_iter=1000, tol=1e-6, penalty=None, eta0=lr, n_iter_no_change=50, random_state=86)\n",
        "sgd_reg.fit(X, y.ravel())\n",
        "print(\"With sklearn SGDRegressor: \", RMSE_2(np.c_[sgd_reg.coef_, sgd_reg.intercept_].T, X, y))"
      ],
      "metadata": {
        "colab": {
          "base_uri": "https://localhost:8080/"
        },
        "id": "kV5HxN3iOtzL",
        "outputId": "711e8b23-c18d-4ac3-a1b3-b03d48803cb4"
      },
      "execution_count": null,
      "outputs": [
        {
          "output_type": "stream",
          "name": "stdout",
          "text": [
            "Before:  18.652017831602794\n",
            "After Batch Gradient Descent (1000 epochs):  5.2390666312928165\n",
            "After Stochastic Gradient Descent (1000 epochs):  5.398374399599127\n",
            "With sklearn SGDRegressor:  5.51230677933938\n"
          ]
        },
        {
          "output_type": "stream",
          "name": "stderr",
          "text": [
            "/usr/local/lib/python3.10/dist-packages/sklearn/linear_model/_stochastic_gradient.py:1603: ConvergenceWarning: Maximum number of iteration reached before convergence. Consider increasing max_iter to improve the fit.\n",
            "  warnings.warn(\n"
          ]
        }
      ]
    },
    {
      "cell_type": "markdown",
      "source": [
        "# W4: Classification"
      ],
      "metadata": {
        "id": "2H0035Tc2iQj"
      }
    },
    {
      "cell_type": "markdown",
      "source": [
        "# Logistic Regression"
      ],
      "metadata": {
        "id": "uK5Qvisz7V2v"
      }
    },
    {
      "cell_type": "code",
      "source": [
        "theta = np.random.randn(2, 1)\n",
        "\n",
        "def f_classify(X):\n",
        "  return X > 0\n",
        "\n",
        "X = np.random.randn(20, 1)\n",
        "y = f_classify(X)\n",
        "plt.plot(X, y, 'o', label='Original data')\n",
        "plt.xlabel(\"X\")\n",
        "plt.ylabel(\"y\")\n",
        "plt.legend()\n",
        "plt.show()"
      ],
      "metadata": {
        "colab": {
          "base_uri": "https://localhost:8080/",
          "height": 449
        },
        "id": "EvzGnRK33xwg",
        "outputId": "8646e322-48df-4fe8-cbf4-2271afb5f34c"
      },
      "execution_count": null,
      "outputs": [
        {
          "output_type": "display_data",
          "data": {
            "text/plain": [
              "<Figure size 640x480 with 1 Axes>"
            ],
            "image/png": "[encoded data removed]"
          },
          "metadata": {}
        }
      ]
    },
    {
      "cell_type": "code",
      "source": [
        "def sigmoid(z):\n",
        "  return 1 / (1 + np.exp(-z))\n",
        "\n",
        "def negll(theta, X, y):\n",
        "  X_b = np.c_[X, np.ones((len(X), 1))]\n",
        "  y_pred = sigmoid(X_b @ theta)\n",
        "  return -np.sum(y * np.log(y_pred) + (1 - y) * np.log(1 - y_pred))"
      ],
      "metadata": {
        "id": "QC2Jtkwk2yD-"
      },
      "execution_count": null,
      "outputs": []
    },
    {
      "cell_type": "code",
      "source": [
        "c = 0.01\n",
        "lr = 1e-3\n",
        "n_epochs = 5000\n",
        "\n",
        "def logistic_reg_bgd(n_epochs, lr, c, theta, X, y):\n",
        "  X_b = np.c_[X, np.ones((len(X), 1))]\n",
        "  n = X.shape[0]\n",
        "  for epoch in range(n_epochs):\n",
        "    gradient = (1 / n) * X_b.T @ (sigmoid(X_b @ theta) - y) + 2 * c * theta\n",
        "    theta = theta - lr * gradient\n",
        "\n",
        "  return theta\n",
        "\n",
        "\n",
        "print(\"Before Neg log likelihood: \", negll(theta, X, y))\n",
        "theta = logistic_reg_bgd(n_epochs, lr, c, theta, X, y)\n",
        "print(\"After Neg log likelihood: \", negll(theta, X, y))\n",
        "\n",
        "y_pred = np.c_[X, np.ones((len(X), 1))] @ theta\n",
        "plt.plot(X, y, 'o', label='Original data')\n",
        "plt.plot(X, y_pred, '-', label='Predicted line') #wrong line\n",
        "plt.xlabel(\"X\")\n",
        "plt.ylabel(\"y\")\n",
        "plt.legend()\n",
        "plt.show()"
      ],
      "metadata": {
        "colab": {
          "base_uri": "https://localhost:8080/",
          "height": 484
        },
        "id": "79Hcyve93PEh",
        "outputId": "28945799-5edc-469f-edcf-5c35fe0068f2"
      },
      "execution_count": null,
      "outputs": [
        {
          "output_type": "stream",
          "name": "stdout",
          "text": [
            "Before Neg log likelihood:  16.263540434372683\n",
            "After Neg log likelihood:  8.141347119257597\n"
          ]
        },
        {
          "output_type": "display_data",
          "data": {
            "text/plain": [
              "<Figure size 640x480 with 1 Axes>"
            ],
            "image/png": "[encoded data removed]"
          },
          "metadata": {}
        }
      ]
    },
    {
      "cell_type": "code",
      "source": [
        "y_true_idx = np.where(y == True)[0]\n",
        "y_false_idx = np.where(y == False)[0]\n",
        "\n",
        "threshold = 0.5\n",
        "print(\"True positive rate:\", np.sum(sigmoid(y_pred[y_true_idx]) > threshold) / len(y_true_idx))\n",
        "print(\"True negative rate:\", np.sum(sigmoid(y_pred[y_false_idx]) < threshold) / len(y_false_idx))\n",
        "print(\"Error type I:\", np.sum(sigmoid(y_pred[y_false_idx]) > threshold) / len(y_false_idx))\n",
        "print(\"Error type II:\", np.sum(sigmoid(y_pred[y_true_idx]) < threshold) / len(y_true_idx))"
      ],
      "metadata": {
        "colab": {
          "base_uri": "https://localhost:8080/"
        },
        "id": "C6Szw-wbYx3v",
        "outputId": "b2004ce1-5336-416a-e17c-f572e862d994"
      },
      "execution_count": null,
      "outputs": [
        {
          "output_type": "stream",
          "name": "stdout",
          "text": [
            "True positive rate: 1.0\n",
            "True negative rate: 0.625\n",
            "Error type I: 0.375\n",
            "Error type II: 0.0\n"
          ]
        }
      ]
    },
    {
      "cell_type": "code",
      "source": [
        "def L_01(y_pred, y_true):\n",
        "  return np.sum(np.abs(y_pred.astype(int) - y_true.astype(int)))\n",
        "\n",
        "y_pred_01 = sigmoid(y_pred) > threshold\n",
        "print(\"Accuracy of the model:\", 1 - (1 / len(y_pred_01) * L_01(y_pred_01, y)))"
      ],
      "metadata": {
        "colab": {
          "base_uri": "https://localhost:8080/"
        },
        "id": "X8sVHFWYdeJw",
        "outputId": "b34b1375-bbc9-4b0b-b5ad-a10883e85daa"
      },
      "execution_count": null,
      "outputs": [
        {
          "output_type": "stream",
          "name": "stdout",
          "text": [
            "Accuracy of the model: 0.85\n"
          ]
        }
      ]
    },
    {
      "cell_type": "markdown",
      "source": [
        "# Softmax Regression"
      ],
      "metadata": {
        "id": "D1LbbJhU7VE7"
      }
    },
    {
      "cell_type": "code",
      "source": [
        "from scipy import sparse"
      ],
      "metadata": {
        "id": "wDRq0mW578TP"
      },
      "execution_count": null,
      "outputs": []
    },
    {
      "cell_type": "code",
      "source": [
        "dim_N = 30\n",
        "dim_d = 2\n",
        "dim_C = 4 #number of classes\n",
        "\n",
        "X = np.random.randn(dim_N, dim_d)\n",
        "y = np.random.randint(0, dim_C, (dim_N,))"
      ],
      "metadata": {
        "id": "SYq9SR2r7aNB"
      },
      "execution_count": null,
      "outputs": []
    },
    {
      "cell_type": "code",
      "source": [
        "def ohe(y, dim_C = dim_C):\n",
        "  y = sparse.coo_matrix((np.ones_like(y),\n",
        "        (y, np.arange(len(y)))), shape = (dim_C, len(y))).toarray()\n",
        "  return y\n",
        "\n",
        "y_ohe = ohe(y, dim_C)\n",
        "y_ohe.shape"
      ],
      "metadata": {
        "id": "fJF09OW17-Ys",
        "colab": {
          "base_uri": "https://localhost:8080/"
        },
        "outputId": "e9b7e7cf-6994-41e1-acfd-6197942d5184"
      },
      "execution_count": null,
      "outputs": [
        {
          "output_type": "execute_result",
          "data": {
            "text/plain": [
              "(4, 30)"
            ]
          },
          "metadata": {},
          "execution_count": 15
        }
      ]
    },
    {
      "cell_type": "code",
      "source": [
        "def softmax(Z):\n",
        "  \"\"\"\n",
        "  Z: C x n\n",
        "  e_X: C x n\n",
        "  \"\"\"\n",
        "  e_X = np.exp(Z - np.max(Z, axis = 0, keepdims = True))\n",
        "  return e_X / e_X.sum(axis = 0)\n",
        "\n",
        "def grad_loss(theta, X, y):\n",
        "  \"\"\"\n",
        "  y_pred: C x n (C x d @ d x n)\n",
        "  E: C x n\n",
        "  X @ E.T: d x n @ n x C => d x C\n",
        "  \"\"\"\n",
        "  y_pred = softmax(theta.T @ X.T)\n",
        "  E = y_pred - y\n",
        "  return X.T @ E.T\n",
        "\n",
        "def multi_NLL(theta, X, y):\n",
        "  y_pred = softmax(theta.T @ X.T)\n",
        "  return -np.sum(y * np.log(y_pred))\n",
        "\n",
        "#approximate using definition of derivative\n",
        "def numeric_grad(theta, X, y, cost_func):\n",
        "  eps = 1e-6\n",
        "  g = np.zeros_like(theta)\n",
        "  for i in range(theta.shape[0]):\n",
        "    for j in range(theta.shape[1]):\n",
        "      theta_p = theta.copy()\n",
        "      theta_n = theta.copy()\n",
        "      theta_p[i, j] += eps\n",
        "      theta_n[i, j] -= eps\n",
        "      g[i, j] = (cost_func(theta_p, X, y) - cost_func(theta_n, X, y)) / (2 * eps)\n",
        "\n",
        "  return g\n",
        "\n",
        "theta = np.random.randn(dim_d, dim_C)\n",
        "g1a = grad_loss(theta, X, y_ohe)\n",
        "g2a = numeric_grad(theta, X, y_ohe, multi_NLL)\n",
        "\n",
        "print(np.linalg.norm(g1a - g2a))"
      ],
      "metadata": {
        "id": "ZeBwOy1d8vFb",
        "colab": {
          "base_uri": "https://localhost:8080/"
        },
        "outputId": "64098cd7-ab3b-4ae9-8bf5-4366394a3ab2"
      },
      "execution_count": null,
      "outputs": [
        {
          "output_type": "stream",
          "name": "stdout",
          "text": [
            "7.382820351801554e-09\n"
          ]
        }
      ]
    },
    {
      "cell_type": "code",
      "source": [
        "def softmax_reg_bgd(n_epochs, lr, theta, X, y_ohe):\n",
        "  X_b = np.c_[X, np.ones((len(X), 1))]\n",
        "  n = X.shape[0]\n",
        "  for epoch in range(n_epochs):\n",
        "    gradient = grad_loss(theta, X, y_ohe)\n",
        "    theta = theta - lr * gradient\n",
        "\n",
        "  return theta\n",
        "\n",
        "n_epochs = 3000\n",
        "lr = 1e-3\n",
        "X = np.random.randn(dim_N, dim_d)\n",
        "y = np.random.randint(0, dim_C, (dim_N,))\n",
        "y_ohe = ohe(y, dim_C)\n",
        "theta = np.random.randn(dim_d, dim_C)\n",
        "\n",
        "print(\"Before Gradient Descent:\", multi_NLL(theta, X, y_ohe))\n",
        "theta = softmax_reg_bgd(n_epochs, lr, theta, X, y_ohe)\n",
        "print(\"After Gradient Descent:\", multi_NLL(theta, X, y_ohe))\n",
        "\n",
        "acc = []\n",
        "for i in range(X.shape[0]):\n",
        "  y_pred = softmax(theta.T @ X[i].T).argmax()\n",
        "  if(y_pred == y[i]):\n",
        "    acc.append(i)\n",
        "\n",
        "print(len(acc) / X.shape[0])"
      ],
      "metadata": {
        "colab": {
          "base_uri": "https://localhost:8080/"
        },
        "id": "EGQmNRVXLWDn",
        "outputId": "bcd452ad-cb29-4cf0-f74e-9d01a2bdd1b0"
      },
      "execution_count": null,
      "outputs": [
        {
          "output_type": "stream",
          "name": "stdout",
          "text": [
            "Before Gradient Descent: 58.58632746919426\n",
            "After Gradient Descent: 38.699288634663965\n",
            "0.43333333333333335\n"
          ]
        }
      ]
    },
    {
      "cell_type": "markdown",
      "source": [
        "# W6: Neural Network (Incomplete)"
      ],
      "metadata": {
        "id": "r1CqzMr6Oct8"
      }
    },
    {
      "cell_type": "markdown",
      "source": [
        "## Method 1:"
      ],
      "metadata": {
        "id": "JtHDuKA7CbHW"
      }
    },
    {
      "cell_type": "code",
      "source": [
        "n_layers = 2\n",
        "dim_N = 50\n",
        "dim_d = 3\n",
        "n_epochs = 500\n",
        "lr = 1e-3\n",
        "\n",
        "X = np.random.randn(dim_N, dim_d)\n",
        "y = 0.769 * X**2 - 2 * X + 1 + np.random.randn(dim_N)\n",
        "\n",
        "def ReLU(Z):\n",
        "  return np.max(0, Z)\n",
        "\n",
        "def RMSE(y_pred, y_true):\n",
        "  return np.sqrt(np.mean(y_true - y_pred))"
      ],
      "metadata": {
        "id": "BCezzIhJ0pYZ"
      },
      "execution_count": null,
      "outputs": []
    },
    {
      "cell_type": "markdown",
      "source": [
        "![image.png](data:image/png;base64,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)"
      ],
      "metadata": {
        "id": "md1xHX3D7Qgu"
      }
    },
    {
      "cell_type": "code",
      "source": [
        "W = np.random.randn(n_layers+1, dim_N, dim_d)\n",
        "W0 = np.random.randn(n_layers+1, dim_N)\n",
        "\n",
        "def NeuralNet_SGD(n_layers, n_epochs, lr = 1e-3, activation_func, loss_func, W, W0, X, y):\n",
        "  for epoch in range(n_epochs):\n",
        "    rand_idx = np.random.randint(X.shape[0])\n",
        "    A = np.random.randn(n_layers)\n",
        "    A[0] = X[rand_idx]\n",
        "    for l in range(1, n_layers):\n",
        "      y_pred = W[l,].T @ A[l-1] + W0[l,]\n",
        "      A[l] = activation_func(y_pred)\n",
        "\n",
        "    train_loss = loss_func(A[n_layers], y[rand_idx])\n",
        "    loss_to_A = 0\n",
        "    loss_to_Z = 0\n",
        "    loss_to_W = 0\n",
        "    loss_to_W0 = 0\n",
        "    print(train_loss)\n",
        "    for l in range(n_layers, 1, -1):\n",
        "      #Error back-propagation\n",
        "      loss_to_A = 0#...\n",
        "      loss_to_Z = loss_to_A * 0#...\n",
        "      #Compute gradient with respect to weights\n",
        "      loss_to_W = A[l-1] * loss_to_Z.T\n",
        "      loss_to_W0 = loss_to_Z\n",
        "      #SGD update\n",
        "      W[l,] = W[l,] - lr * loss_to_W\n",
        "      W0[l,] = W0[l,] - lr * loss_to_W0\n",
        "\n",
        "    return W, W0\n",
        "\n",
        "NeuralNet_SGD(n_layers, n_epochs, lr, ReLU, RMSE, W, W0, X, y)"
      ],
      "metadata": {
        "id": "zy-Aa-eR2jni"
      },
      "execution_count": null,
      "outputs": []
    },
    {
      "cell_type": "markdown",
      "source": [
        "## Method 2:"
      ],
      "metadata": {
        "id": "ASpA6PRrCdJ3"
      }
    },
    {
      "cell_type": "code",
      "source": [
        "X = np.random.randn(30, 1)\n",
        "y = 0.639 * X**2 - 8 * X + np.random.randn(30, 1)"
      ],
      "metadata": {
        "id": "vIeQEIoDkd5v"
      },
      "execution_count": null,
      "outputs": []
    },
    {
      "cell_type": "code",
      "source": [
        "class NeuralNetwork:\n",
        "  '''\n",
        "  Dimensions:\n",
        "  +) X: N x 1\n",
        "  +) y: N x 1\n",
        "\n",
        "  +) weights: n_layers x (input_dim x output_dim)\n",
        "  +) bias: n_layers x (output_dim)\n",
        "  +) Z: n_layers x (output_dim x 1)\n",
        "  +) A: n_layers x (output_dim x 1)\n",
        "  +) loss: n_layers x (1)\n",
        "\n",
        "  '''\n",
        "  def __init__(self, learning_rate):\n",
        "    self.learning_rate = learning_rate\n",
        "\n",
        "    self.weights = [0] # L x input_dim x output_dim\n",
        "    self.bias = [0] # L x input_dim\n",
        "    self.dW = self.dW0 = 0\n",
        "\n",
        "    self.n_layers = 0\n",
        "    self.input_dim = [0] # L\n",
        "    self.output_dim = [0] # L\n",
        "\n",
        "  def ReLU(self, Z):\n",
        "    return np.max(0, Z)\n",
        "\n",
        "  def loss_func(self, y_pred, y_true):\n",
        "    return np.mean((y_pred - y_true))**2\n",
        "\n",
        "  def add_layer(self, input_dim, output_dim):\n",
        "    self.n_layers = self.n_layers + 1\n",
        "    self.input_dim.append(input_dim)\n",
        "    self.output_dim.append(output_dim)\n",
        "    self.weights.append(np.random.randn(input_dim, output_dim))\n",
        "    self.bias.append(np.random.randn(output_dim, 1))\n",
        "\n",
        "  def forward(self, X):\n",
        "    #forward\n",
        "    self.Z = [X]\n",
        "    self.A = [0]\n",
        "    print(len(self.Z), len(self.Z[0]), len(self.Z[0][0]))\n",
        "    print(np.asarray(self.Z).shape, np.asarray(self.Z).shape)\n",
        "    for l in range(1, self.n_layers):\n",
        "      print(l, \": \", np.asarray(self.weights[l].T).shape, \" \", np.asarray(self.Z[l-1]).shape, \" \", np.asarray(self.bias[l]).shape)\n",
        "      self.Z.append(self.weights[l].T @ self.Z[l-1] + self.bias[l])\n",
        "      print(np.asarray(self.Z[l].flatten()).shape)\n",
        "      self.A.append(self.ReLU(self.Z[l]))\n",
        "      print(\"shape of \")\n",
        "      print(np.asarray(self.A[l]).shape)\n",
        "\n",
        "    return self.A[self.n_layers]\n",
        "\n",
        "  def backward(self, train_loss, X, y):\n",
        "    #backward\n",
        "    loss = np.random.randn(n_layers+1, 1)\n",
        "    loss[n_layers] = train_loss\n",
        "    for l in range(self.n_layers, 1, -1):\n",
        "      if(l < self.n_layers):\n",
        "        loss[l] = self.weights[l+1].T * loss[l+1] * (self.Z[l] > 0) #derivative of ReLU(Z[l])\n",
        "      else:\n",
        "        loss[l] = self.weights[l+1].T * loss[l+1]\n",
        "\n",
        "      self.dW = loss[l] @ self.A[l-1].T\n",
        "      self.dW0 = loss[l]\n",
        "\n",
        "  def update_weights(self):\n",
        "    #update weights\n",
        "    self.weights = self.weights - self.learning_rate * self.dW\n",
        "    self.bias = self.bias - self.learning_rate * self.dW0\n",
        "\n",
        "  def train(self, X, y, n_epochs):\n",
        "    if(self.n_layers == 0):\n",
        "      print(\"No layers added\")\n",
        "      return\n",
        "\n",
        "    if not self.weights:\n",
        "      self.weights.append(np.random.randn(X.shape[1], y.shape[1]))\n",
        "      self.bias.append(np.random.randn(y.shape[1]))\n",
        "    #training\n",
        "    print(\"Training...\")\n",
        "    for epoch in range(n_epochs):\n",
        "      loss = []\n",
        "      print(\"  Fowarding...\")\n",
        "      train_loss = self.loss_func(self.forward(X), y)\n",
        "      loss.append(train_loss)\n",
        "      print(\"  Backwarding...\")\n",
        "      self.backward(train_loss, X, y)\n",
        "      print(\"  Weight updating...\")\n",
        "      self.update_weights()\n",
        "      print(f\"Epoch {epoch}/{n_epochs}: loss =\", np.mean(loss))\n",
        "\n",
        "  def predict(self, X):\n",
        "    y_pred = self.weights.T @ X + self.bias\n",
        "    return y_pred\n"
      ],
      "metadata": {
        "id": "Ediw-enSCNNS"
      },
      "execution_count": null,
      "outputs": []
    },
    {
      "cell_type": "code",
      "source": [
        "custom_nn = NeuralNetwork(learning_rate = 1e-3)\n",
        "custom_nn.add_layer(X.shape[0], 25)\n",
        "custom_nn.add_layer(25, y.shape[1])"
      ],
      "metadata": {
        "id": "EWjd_isG4qP2"
      },
      "execution_count": null,
      "outputs": []
    },
    {
      "cell_type": "code",
      "source": [
        "custom_nn.train(X, y, n_epochs = 2)"
      ],
      "metadata": {
        "colab": {
          "base_uri": "https://localhost:8080/",
          "height": 391
        },
        "id": "VKQKemC38ntY",
        "outputId": "937562f8-69ce-4964-a1d4-286a8d009a7e"
      },
      "execution_count": null,
      "outputs": [
        {
          "output_type": "stream",
          "name": "stdout",
          "text": [
            "Training...\n",
            "  Fowarding...\n",
            "1 30 1\n",
            "(1, 30, 1) (1, 30, 1)\n",
            "1 :  (25, 30)   (30, 1)   (25, 1)\n",
            "(25,)\n"
          ]
        },
        {
          "output_type": "error",
          "ename": "TypeError",
          "evalue": "only integer scalar arrays can be converted to a scalar index",
          "traceback": [
            "\u001b[0;31m---------------------------------------------------------------------------\u001b[0m",
            "\u001b[0;31mTypeError\u001b[0m                                 Traceback (most recent call last)",
            "\u001b[0;32m<ipython-input-169-91987011fbc3>\u001b[0m in \u001b[0;36m<cell line: 0>\u001b[0;34m()\u001b[0m\n\u001b[0;32m----> 1\u001b[0;31m \u001b[0mcustom_nn\u001b[0m\u001b[0;34m.\u001b[0m\u001b[0mtrain\u001b[0m\u001b[0;34m(\u001b[0m\u001b[0mX\u001b[0m\u001b[0;34m,\u001b[0m \u001b[0my\u001b[0m\u001b[0;34m,\u001b[0m \u001b[0mn_epochs\u001b[0m \u001b[0;34m=\u001b[0m \u001b[0;36m2\u001b[0m\u001b[0;34m)\u001b[0m\u001b[0;34m\u001b[0m\u001b[0;34m\u001b[0m\u001b[0m\n\u001b[0m",
            "\u001b[0;32m<ipython-input-167-c59574c27c24>\u001b[0m in \u001b[0;36mtrain\u001b[0;34m(self, X, y, n_epochs)\u001b[0m\n\u001b[1;32m     92\u001b[0m       \u001b[0;31m#   self.update_weights()\u001b[0m\u001b[0;34m\u001b[0m\u001b[0;34m\u001b[0m\u001b[0m\n\u001b[1;32m     93\u001b[0m       \u001b[0mprint\u001b[0m\u001b[0;34m(\u001b[0m\u001b[0;34m\"  Fowarding...\"\u001b[0m\u001b[0;34m)\u001b[0m\u001b[0;34m\u001b[0m\u001b[0;34m\u001b[0m\u001b[0m\n\u001b[0;32m---> 94\u001b[0;31m       \u001b[0mtrain_loss\u001b[0m \u001b[0;34m=\u001b[0m \u001b[0mself\u001b[0m\u001b[0;34m.\u001b[0m\u001b[0mloss_func\u001b[0m\u001b[0;34m(\u001b[0m\u001b[0mself\u001b[0m\u001b[0;34m.\u001b[0m\u001b[0mforward\u001b[0m\u001b[0;34m(\u001b[0m\u001b[0mX\u001b[0m\u001b[0;34m)\u001b[0m\u001b[0;34m,\u001b[0m \u001b[0my\u001b[0m\u001b[0;34m)\u001b[0m\u001b[0;34m\u001b[0m\u001b[0;34m\u001b[0m\u001b[0m\n\u001b[0m\u001b[1;32m     95\u001b[0m       \u001b[0mloss\u001b[0m\u001b[0;34m.\u001b[0m\u001b[0mappend\u001b[0m\u001b[0;34m(\u001b[0m\u001b[0mtrain_loss\u001b[0m\u001b[0;34m)\u001b[0m\u001b[0;34m\u001b[0m\u001b[0;34m\u001b[0m\u001b[0m\n\u001b[1;32m     96\u001b[0m       \u001b[0mprint\u001b[0m\u001b[0;34m(\u001b[0m\u001b[0;34m\"  Backwarding...\"\u001b[0m\u001b[0;34m)\u001b[0m\u001b[0;34m\u001b[0m\u001b[0;34m\u001b[0m\u001b[0m\n",
            "\u001b[0;32m<ipython-input-167-c59574c27c24>\u001b[0m in \u001b[0;36mforward\u001b[0;34m(self, X)\u001b[0m\n\u001b[1;32m     46\u001b[0m       \u001b[0mself\u001b[0m\u001b[0;34m.\u001b[0m\u001b[0mZ\u001b[0m\u001b[0;34m.\u001b[0m\u001b[0mappend\u001b[0m\u001b[0;34m(\u001b[0m\u001b[0mself\u001b[0m\u001b[0;34m.\u001b[0m\u001b[0mweights\u001b[0m\u001b[0;34m[\u001b[0m\u001b[0ml\u001b[0m\u001b[0;34m]\u001b[0m\u001b[0;34m.\u001b[0m\u001b[0mT\u001b[0m \u001b[0;34m@\u001b[0m \u001b[0mself\u001b[0m\u001b[0;34m.\u001b[0m\u001b[0mZ\u001b[0m\u001b[0;34m[\u001b[0m\u001b[0ml\u001b[0m\u001b[0;34m-\u001b[0m\u001b[0;36m1\u001b[0m\u001b[0;34m]\u001b[0m \u001b[0;34m+\u001b[0m \u001b[0mself\u001b[0m\u001b[0;34m.\u001b[0m\u001b[0mbias\u001b[0m\u001b[0;34m[\u001b[0m\u001b[0ml\u001b[0m\u001b[0;34m]\u001b[0m\u001b[0;34m)\u001b[0m\u001b[0;34m\u001b[0m\u001b[0;34m\u001b[0m\u001b[0m\n\u001b[1;32m     47\u001b[0m       \u001b[0mprint\u001b[0m\u001b[0;34m(\u001b[0m\u001b[0mnp\u001b[0m\u001b[0;34m.\u001b[0m\u001b[0masarray\u001b[0m\u001b[0;34m(\u001b[0m\u001b[0mself\u001b[0m\u001b[0;34m.\u001b[0m\u001b[0mZ\u001b[0m\u001b[0;34m[\u001b[0m\u001b[0ml\u001b[0m\u001b[0;34m]\u001b[0m\u001b[0;34m.\u001b[0m\u001b[0mflatten\u001b[0m\u001b[0;34m(\u001b[0m\u001b[0;34m)\u001b[0m\u001b[0;34m)\u001b[0m\u001b[0;34m.\u001b[0m\u001b[0mshape\u001b[0m\u001b[0;34m)\u001b[0m\u001b[0;34m\u001b[0m\u001b[0;34m\u001b[0m\u001b[0m\n\u001b[0;32m---> 48\u001b[0;31m       \u001b[0mself\u001b[0m\u001b[0;34m.\u001b[0m\u001b[0mA\u001b[0m\u001b[0;34m.\u001b[0m\u001b[0mappend\u001b[0m\u001b[0;34m(\u001b[0m\u001b[0mself\u001b[0m\u001b[0;34m.\u001b[0m\u001b[0mReLU\u001b[0m\u001b[0;34m(\u001b[0m\u001b[0mself\u001b[0m\u001b[0;34m.\u001b[0m\u001b[0mZ\u001b[0m\u001b[0;34m[\u001b[0m\u001b[0ml\u001b[0m\u001b[0;34m]\u001b[0m\u001b[0;34m)\u001b[0m\u001b[0;34m)\u001b[0m\u001b[0;34m\u001b[0m\u001b[0;34m\u001b[0m\u001b[0m\n\u001b[0m\u001b[1;32m     49\u001b[0m       \u001b[0mprint\u001b[0m\u001b[0;34m(\u001b[0m\u001b[0;34m\"shape of \"\u001b[0m\u001b[0;34m)\u001b[0m\u001b[0;34m\u001b[0m\u001b[0;34m\u001b[0m\u001b[0m\n\u001b[1;32m     50\u001b[0m       \u001b[0mprint\u001b[0m\u001b[0;34m(\u001b[0m\u001b[0mnp\u001b[0m\u001b[0;34m.\u001b[0m\u001b[0masarray\u001b[0m\u001b[0;34m(\u001b[0m\u001b[0mself\u001b[0m\u001b[0;34m.\u001b[0m\u001b[0mA\u001b[0m\u001b[0;34m[\u001b[0m\u001b[0ml\u001b[0m\u001b[0;34m]\u001b[0m\u001b[0;34m)\u001b[0m\u001b[0;34m.\u001b[0m\u001b[0mshape\u001b[0m\u001b[0;34m)\u001b[0m\u001b[0;34m\u001b[0m\u001b[0;34m\u001b[0m\u001b[0m\n",
            "\u001b[0;32m<ipython-input-167-c59574c27c24>\u001b[0m in \u001b[0;36mReLU\u001b[0;34m(self, Z)\u001b[0m\n\u001b[1;32m     24\u001b[0m \u001b[0;34m\u001b[0m\u001b[0m\n\u001b[1;32m     25\u001b[0m   \u001b[0;32mdef\u001b[0m \u001b[0mReLU\u001b[0m\u001b[0;34m(\u001b[0m\u001b[0mself\u001b[0m\u001b[0;34m,\u001b[0m \u001b[0mZ\u001b[0m\u001b[0;34m)\u001b[0m\u001b[0;34m:\u001b[0m\u001b[0;34m\u001b[0m\u001b[0;34m\u001b[0m\u001b[0m\n\u001b[0;32m---> 26\u001b[0;31m     \u001b[0;32mreturn\u001b[0m \u001b[0mnp\u001b[0m\u001b[0;34m.\u001b[0m\u001b[0mmax\u001b[0m\u001b[0;34m(\u001b[0m\u001b[0;36m0\u001b[0m\u001b[0;34m,\u001b[0m \u001b[0mZ\u001b[0m\u001b[0;34m)\u001b[0m\u001b[0;34m\u001b[0m\u001b[0;34m\u001b[0m\u001b[0m\n\u001b[0m\u001b[1;32m     27\u001b[0m \u001b[0;34m\u001b[0m\u001b[0m\n\u001b[1;32m     28\u001b[0m   \u001b[0;32mdef\u001b[0m \u001b[0mloss_func\u001b[0m\u001b[0;34m(\u001b[0m\u001b[0mself\u001b[0m\u001b[0;34m,\u001b[0m \u001b[0my_pred\u001b[0m\u001b[0;34m,\u001b[0m \u001b[0my_true\u001b[0m\u001b[0;34m)\u001b[0m\u001b[0;34m:\u001b[0m\u001b[0;34m\u001b[0m\u001b[0;34m\u001b[0m\u001b[0m\n",
            "\u001b[0;32m/usr/local/lib/python3.11/dist-packages/numpy/core/fromnumeric.py\u001b[0m in \u001b[0;36mmax\u001b[0;34m(a, axis, out, keepdims, initial, where)\u001b[0m\n\u001b[1;32m   2808\u001b[0m     \u001b[0;36m5\u001b[0m\u001b[0;34m\u001b[0m\u001b[0;34m\u001b[0m\u001b[0m\n\u001b[1;32m   2809\u001b[0m     \"\"\"\n\u001b[0;32m-> 2810\u001b[0;31m     return _wrapreduction(a, np.maximum, 'max', axis, None, out,\n\u001b[0m\u001b[1;32m   2811\u001b[0m                           keepdims=keepdims, initial=initial, where=where)\n\u001b[1;32m   2812\u001b[0m \u001b[0;34m\u001b[0m\u001b[0m\n",
            "\u001b[0;32m/usr/local/lib/python3.11/dist-packages/numpy/core/fromnumeric.py\u001b[0m in \u001b[0;36m_wrapreduction\u001b[0;34m(obj, ufunc, method, axis, dtype, out, **kwargs)\u001b[0m\n\u001b[1;32m     86\u001b[0m                 \u001b[0;32mreturn\u001b[0m \u001b[0mreduction\u001b[0m\u001b[0;34m(\u001b[0m\u001b[0maxis\u001b[0m\u001b[0;34m=\u001b[0m\u001b[0maxis\u001b[0m\u001b[0;34m,\u001b[0m \u001b[0mout\u001b[0m\u001b[0;34m=\u001b[0m\u001b[0mout\u001b[0m\u001b[0;34m,\u001b[0m \u001b[0;34m**\u001b[0m\u001b[0mpasskwargs\u001b[0m\u001b[0;34m)\u001b[0m\u001b[0;34m\u001b[0m\u001b[0;34m\u001b[0m\u001b[0m\n\u001b[1;32m     87\u001b[0m \u001b[0;34m\u001b[0m\u001b[0m\n\u001b[0;32m---> 88\u001b[0;31m     \u001b[0;32mreturn\u001b[0m \u001b[0mufunc\u001b[0m\u001b[0;34m.\u001b[0m\u001b[0mreduce\u001b[0m\u001b[0;34m(\u001b[0m\u001b[0mobj\u001b[0m\u001b[0;34m,\u001b[0m \u001b[0maxis\u001b[0m\u001b[0;34m,\u001b[0m \u001b[0mdtype\u001b[0m\u001b[0;34m,\u001b[0m \u001b[0mout\u001b[0m\u001b[0;34m,\u001b[0m \u001b[0;34m**\u001b[0m\u001b[0mpasskwargs\u001b[0m\u001b[0;34m)\u001b[0m\u001b[0;34m\u001b[0m\u001b[0;34m\u001b[0m\u001b[0m\n\u001b[0m\u001b[1;32m     89\u001b[0m \u001b[0;34m\u001b[0m\u001b[0m\n\u001b[1;32m     90\u001b[0m \u001b[0;34m\u001b[0m\u001b[0m\n",
            "\u001b[0;31mTypeError\u001b[0m: only integer scalar arrays can be converted to a scalar index"
          ]
        }
      ]
    },
    {
      "cell_type": "code",
      "source": [
        "# y_pred = custom_nn.predict(X)\n",
        "# y_pred"
      ],
      "metadata": {
        "id": "C4o4MdBn3rNx"
      },
      "execution_count": null,
      "outputs": []
    },
    {
      "cell_type": "markdown",
      "source": [
        "# W8"
      ],
      "metadata": {
        "id": "PYdQeYCy7H4k"
      }
    }
  ]
}