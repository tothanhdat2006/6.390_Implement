{
  "nbformat": 4,
  "nbformat_minor": 0,
  "metadata": {
    "colab": {
      "provenance": []
    },
    "kernelspec": {
      "name": "python3",
      "display_name": "Python 3"
    },
    "language_info": {
      "name": "python"
    }
  },
  "cells": [
    {
      "cell_type": "code",
      "execution_count": 50,
      "metadata": {
        "id": "ksChZ0X27u89"
      },
      "outputs": [],
      "source": [
        "import numpy as np\n",
        "import matplotlib.pyplot as plt"
      ]
    },
    {
      "cell_type": "markdown",
      "source": [
        "# ***W1+2: Linear Regression***"
      ],
      "metadata": {
        "id": "AeYtzHaKM6yr"
      }
    },
    {
      "cell_type": "code",
      "source": [
        "theta = np.array([[0.3]])\n",
        "theta_0 = 1"
      ],
      "metadata": {
        "id": "5NnlbUIpGA82"
      },
      "execution_count": 51,
      "outputs": []
    },
    {
      "cell_type": "code",
      "source": [
        "def f_real(X):\n",
        "  return 0.05 * X**2 - 0.5*X + 1.5\n",
        "\n",
        "X = np.random.randint(1, 30, 20)\n",
        "y = f_real(X)"
      ],
      "metadata": {
        "id": "PiwUjyVpHD0m"
      },
      "execution_count": 52,
      "outputs": []
    },
    {
      "cell_type": "code",
      "source": [
        "y_pred = (theta * X + theta_0).flatten()\n",
        "\n",
        "plt.plot(X, y, 'o', label='Original data')\n",
        "plt.plot(X, y_pred, '-', label='Fitted line')\n",
        "plt.xlabel(\"X\")\n",
        "plt.ylabel(\"y\")\n",
        "plt.legend()\n",
        "plt.show()"
      ],
      "metadata": {
        "colab": {
          "base_uri": "https://localhost:8080/",
          "height": 449
        },
        "id": "cqfEpNkBKGGo",
        "outputId": "f1637e02-0d69-48c8-808b-58eb7000c7cb"
      },
      "execution_count": 53,
      "outputs": [
        {
          "output_type": "display_data",
          "data": {
            "text/plain": [
              "<Figure size 640x480 with 1 Axes>"
            ],
            "image/png": "[encoded data removed]"
          },
          "metadata": {}
        }
      ]
    },
    {
      "cell_type": "code",
      "source": [
        "X = X.reshape(-1, 1) #n x 1"
      ],
      "metadata": {
        "id": "MM3Ixv4jMRU1"
      },
      "execution_count": 56,
      "outputs": []
    },
    {
      "cell_type": "code",
      "source": [
        "X.shape, theta.shape"
      ],
      "metadata": {
        "colab": {
          "base_uri": "https://localhost:8080/"
        },
        "id": "Ew2QeYRyGT8t",
        "outputId": "3d1d50c7-77a4-4433-b919-9adcbd1d74d6"
      },
      "execution_count": null,
      "outputs": [
        {
          "output_type": "execute_result",
          "data": {
            "text/plain": [
              "((20, 1), (1, 1))"
            ]
          },
          "metadata": {},
          "execution_count": 6
        }
      ]
    },
    {
      "cell_type": "markdown",
      "source": [
        "## **Training error (RMSE) for linear regression**"
      ],
      "metadata": {
        "id": "_v6Ti-lSQhs8"
      }
    },
    {
      "cell_type": "code",
      "source": [
        "n = X.shape[0]\n",
        "y_pred = theta.T @ X + theta_0"
      ],
      "metadata": {
        "colab": {
          "base_uri": "https://localhost:8080/",
          "height": 159
        },
        "id": "IylMZitbLiSk",
        "outputId": "a7aa86df-f536-499d-e685-24cac25ca445"
      },
      "execution_count": null,
      "outputs": [
        {
          "output_type": "error",
          "ename": "ValueError",
          "evalue": "shapes (1,1) and (20,1) not aligned: 1 (dim 1) != 20 (dim 0)",
          "traceback": [
            "\u001b[0;31m---------------------------------------------------------------------------\u001b[0m",
            "\u001b[0;31mValueError\u001b[0m                                Traceback (most recent call last)",
            "\u001b[0;32m<ipython-input-7-e3a9c5ce967c>\u001b[0m in \u001b[0;36m<cell line: 2>\u001b[0;34m()\u001b[0m\n\u001b[1;32m      1\u001b[0m \u001b[0mn\u001b[0m \u001b[0;34m=\u001b[0m \u001b[0mX\u001b[0m\u001b[0;34m.\u001b[0m\u001b[0mshape\u001b[0m\u001b[0;34m[\u001b[0m\u001b[0;36m0\u001b[0m\u001b[0;34m]\u001b[0m\u001b[0;34m\u001b[0m\u001b[0;34m\u001b[0m\u001b[0m\n\u001b[0;32m----> 2\u001b[0;31m \u001b[0my_pred\u001b[0m \u001b[0;34m=\u001b[0m \u001b[0mtheta\u001b[0m\u001b[0;34m.\u001b[0m\u001b[0mT\u001b[0m\u001b[0;34m.\u001b[0m\u001b[0mdot\u001b[0m\u001b[0;34m(\u001b[0m\u001b[0mX\u001b[0m\u001b[0;34m)\u001b[0m \u001b[0;34m+\u001b[0m \u001b[0mtheta_0\u001b[0m\u001b[0;34m\u001b[0m\u001b[0;34m\u001b[0m\u001b[0m\n\u001b[0m",
            "\u001b[0;31mValueError\u001b[0m: shapes (1,1) and (20,1) not aligned: 1 (dim 1) != 20 (dim 0)"
          ]
        }
      ]
    },
    {
      "cell_type": "markdown",
      "source": [
        "`prompt: hint to write traning error of linear regression (no code)`\n",
        "\n",
        "import numpy as np\n",
        "The training error of a linear regression model is typically calculated as the mean squared error (MSE) between the predicted values (y_pred) and the actual values (y) in your training dataset.  You've already got most of the pieces:\n",
        "\n",
        "1. **Calculate the difference between predicted and actual values:**  `y_pred - y`\n",
        "\n",
        "2. **Square the differences:**  `(y_pred - y)**2`\n",
        "\n",
        "3. **Sum the squared differences:** `np.sum((y_pred - y)**2)`\n",
        "\n",
        "4. **Divide by the number of data points (n):** `1/n * ...`\n",
        "\n",
        "You're very close with the code you've already written! The issue lies in how you're using `theta`.  You need to ensure the matrix multiplication is correctly sized and that you're adding `theta_0` correctly.  Review the dimensions of `theta` and `X`, and how you incorporate the intercept (`theta_0`).\n"
      ],
      "metadata": {
        "id": "0iHwod8hOXmX"
      }
    },
    {
      "cell_type": "code",
      "source": [
        "y_pred = theta.T @ X.T + theta_0"
      ],
      "metadata": {
        "id": "7HkINNicMrml"
      },
      "execution_count": 57,
      "outputs": []
    },
    {
      "cell_type": "markdown",
      "source": [
        "### Mistake 1: transpose X because of wrong dimension when initialized"
      ],
      "metadata": {
        "id": "ZSgVcovaQSiH"
      }
    },
    {
      "cell_type": "code",
      "source": [
        "def RMSE_1(theta, theta_0, X, y):\n",
        "  X = X.reshape(-1, 1) #n x 1\n",
        "  y_pred = theta.T @ X.T + theta_0\n",
        "  n = X.shape[0]\n",
        "  mse = (1 / n) * np.sum((y_pred.flatten() - y)**2)\n",
        "  return mse\n",
        "\n",
        "# Example usage:\n",
        "error = RMSE_1(theta, theta_0, X, y)\n",
        "print(f\"Training Error (MSE): {error}\")"
      ],
      "metadata": {
        "colab": {
          "base_uri": "https://localhost:8080/"
        },
        "id": "P-UKJ7M1NOOB",
        "outputId": "efb2fe24-238f-499f-cade-ee5cbeeebf2b"
      },
      "execution_count": 58,
      "outputs": [
        {
          "output_type": "stream",
          "name": "stdout",
          "text": [
            "Training Error (MSE): 122.37075000000004\n"
          ]
        }
      ]
    },
    {
      "cell_type": "markdown",
      "source": [
        "## **Direct Solution**"
      ],
      "metadata": {
        "id": "ji8WSMXEQPiR"
      }
    },
    {
      "cell_type": "markdown",
      "source": [
        "### Mistake 2: Careful about matrix dimension"
      ],
      "metadata": {
        "id": "S5nLbbRvZdHN"
      }
    },
    {
      "cell_type": "code",
      "source": [
        "#theta = X^(-1) * y\n",
        "def direct_linear_regression_1(X, y):\n",
        "  X = X.reshape(-1, 1)\n",
        "  X_b = np.c_[X, np.ones((len(X), 1))] #1 column for theta_0\n",
        "  theta_best = np.linalg.pinv(X_b) @ y\n",
        "  return theta_best\n",
        "\n",
        "#theta = (X^T @ X)^(-1) @ X^T @ y\n",
        "def direct_linear_regression_2(X, y):\n",
        "  X = X.reshape(-1, 1)\n",
        "  X_b = np.c_[X, np.ones((len(X), 1))] #1 column for theta_0\n",
        "  theta_best = np.linalg.inv(X_b.T @ X_b) @ X_b.T @ y #np.linalg.inv(X_b.T.dot(X_b)) may not be defined\n",
        "  return theta_best\n",
        "\n",
        "def RMSE_1_rewrite(theta, X, y):\n",
        "  theta_0 = theta[1]\n",
        "  theta = np.delete(np.array(theta), theta.shape[0]-1) #delete last column reserved for theta_0\n",
        "  theta = np.array(theta)\n",
        "  X = X.reshape(-1, 1) #n x 1\n",
        "  n = X.shape[0]\n",
        "\n",
        "  y_pred = theta.T @ X.T + theta_0\n",
        "  mse = (1 / n) * np.sum((y_pred.flatten() - y)**2)\n",
        "  return mse\n",
        "\n",
        "#err = 1/n * (X_b @ theta - y).T @ (X_b @ theta - y)\n",
        "def RMSE_2(theta, X, y):\n",
        "  X = X.reshape(-1, 1) #n x d\n",
        "  X_b = np.c_[X, np.ones((len(X), 1))] #1 column for theta_0\n",
        "  n = X.shape[0]\n",
        "  y = y.reshape(-1, 1) #n x 1\n",
        "  theta = theta.reshape(-1, 1) #d * 1\n",
        "\n",
        "  dif = X_b @ theta - y\n",
        "  dif_T = dif.T\n",
        "  err = (1 / n) * np.sum(dif_T @ dif)\n",
        "  # print(dif)\n",
        "  # print(X_b, theta, y)\n",
        "  return err\n",
        "\n",
        "# Test RMSE function with fixed X, y and theta\n",
        "# print(RMSE_1_rewrite(np.array([1, 2]), np.array([[1, 3]]), np.array([1, 2])))\n",
        "# print(RMSE_2(np.array([1, 2]), np.array([[1, 3]]), np.array([1, 2])))\n",
        "\n",
        "# Training set\n",
        "X = np.random.randint(1, 30, 20)\n",
        "X_b = np.c_[X, np.ones((len(X), 1))]\n",
        "y = f_real(X)\n",
        "\n",
        "# Valuation set\n",
        "X_val = np.random.randint(1, 30, 20)\n",
        "X_val_b = np.c_[X_val, np.ones((len(X_val), 1))]\n",
        "y_val = f_real(X_val)\n",
        "\n",
        "# theta_best = direct_linear_regression_1(X, y)\n",
        "theta_best = direct_linear_regression_2(X, y)\n",
        "y_val_pred = X_val_b @ theta_best\n",
        "print(\"Optimal theta of direct solution:\", theta_best)\n",
        "print(\"Validation error of direct solution: \", RMSE_1_rewrite(theta_best, X_val, y_val))\n",
        "print(\"Validation error of direct solution: \", RMSE_2(theta_best, X_val, y_val))\n",
        "plt.subplot(2, 1, 1)\n",
        "plt.plot(X_val, y_val, 'o', label='Original data')\n",
        "plt.plot(X_val, y_val_pred, '-', label='Fitted line')\n",
        "plt.xlabel(\"X\")\n",
        "plt.ylabel(\"y\")\n",
        "plt.legend()\n",
        "plt.show()\n",
        "\n",
        "# Compare with the solution using numpy.linalg.lstsq (least squares)\n",
        "theta_best_lstsq, residuals, rank, s = np.linalg.lstsq(X_b, y, rcond=1e-6)\n",
        "y_val_pred = X_val_b @ theta_best_lstsq\n",
        "print(\"\\nOptimal theta using numpy.linalg.lstsq:\", theta_best_lstsq.flatten())\n",
        "print(\"Validation error of least square: \", RMSE_1_rewrite(theta_best_lstsq, X_val, y_val))\n",
        "print(\"Validation error of least square: \", RMSE_2(theta_best_lstsq, X_val, y_val))\n",
        "plt.subplot(2, 1, 2)\n",
        "plt.plot(X_val, y_val, 'o', label='Original data')\n",
        "plt.plot(X_val, y_val_pred, '-', label='Fitted line')\n",
        "plt.xlabel(\"X\")\n",
        "plt.ylabel(\"y\")\n",
        "plt.legend()\n",
        "plt.show()"
      ],
      "metadata": {
        "colab": {
          "base_uri": "https://localhost:8080/",
          "height": 601
        },
        "id": "ebF0XRhtPdoK",
        "outputId": "0bbb4bb3-06f4-47ac-e962-d45b6fddb46d"
      },
      "execution_count": 85,
      "outputs": [
        {
          "output_type": "stream",
          "name": "stdout",
          "text": [
            "Optimal theta of direct solution: [ 1.03766286 -7.90958662]\n",
            "Validation error of direct solution:  7.218411747531866\n",
            "Validation error of direct solution:  7.218411747531867\n"
          ]
        },
        {
          "output_type": "display_data",
          "data": {
            "text/plain": [
              "<Figure size 640x480 with 1 Axes>"
            ],
            "image/png": "[encoded data removed]"
          },
          "metadata": {}
        },
        {
          "output_type": "stream",
          "name": "stdout",
          "text": [
            "\n",
            "Optimal theta using numpy.linalg.lstsq: [ 1.03766286 -7.90958662]\n",
            "Validation error of least square:  7.218411747531862\n",
            "Validation error of least square:  7.218411747531862\n"
          ]
        },
        {
          "output_type": "display_data",
          "data": {
            "text/plain": [
              "<Figure size 640x480 with 1 Axes>"
            ],
            "image/png": "[encoded data removed]"
          },
          "metadata": {}
        }
      ]
    },
    {
      "cell_type": "markdown",
      "source": [
        "**Same error => Correct implementation**"
      ],
      "metadata": {
        "id": "YUb3TFcQkh_4"
      }
    },
    {
      "cell_type": "markdown",
      "source": [
        "## Ridge"
      ],
      "metadata": {
        "id": "kC9qY5EzQthq"
      }
    },
    {
      "cell_type": "code",
      "source": [
        "#theta = (X^T x X)^(-1) x X^T x y\n",
        "def direct_ridge_regression(X, y, c):\n",
        "  X = X.reshape(-1, 1) #n x d\n",
        "  X_b = np.c_[X, np.ones((len(X), 1))] #1 column for theta_0\n",
        "  n, d = X.shape[0], X.shape[1]\n",
        "  theta_best = np.linalg.inv(X_b.T @ X_b + n * c * np.identity(d)) @ X_b.T @ y #np.linalg.inv(X_b.T.dot(X_b)) may not be defined\n",
        "  return theta_best\n",
        "\n",
        "def RMSE_ridge(theta, X, y, c):\n",
        "  X = X.reshape(-1, 1) #n x d\n",
        "  X_b = np.c_[X, np.ones((len(X), 1))] #1 column for theta_0\n",
        "  n = X.shape[0]\n",
        "  y = y.reshape(-1, 1) #n x 1\n",
        "  theta = theta.reshape(-1, 1) #d * 1\n",
        "\n",
        "  dif = X_b @ theta - y\n",
        "  dif_T = dif.T\n",
        "  err = 1/n * np.sum(dif_T @ dif) + c * np.linalg.norm(theta)**2\n",
        "  return err\n",
        "\n",
        "X = np.random.randint(1, 30, 20)\n",
        "y = f_real(X)\n",
        "\n",
        "X_val = np.random.randint(1, 30, 20)\n",
        "X_val_b = np.c_[X_val, np.ones((len(X_val), 1))]\n",
        "y_val = f_real(X_val)\n",
        "\n",
        "c = 0.01\n",
        "theta_best_normal = direct_linear_regression_2(X, y)\n",
        "y_val_pred = X_val_b @ theta_best\n",
        "print(\"Optimal theta of linear regression:\", theta_best)\n",
        "print(\"Validation error of linear regression: \", RMSE_2(theta_best, X_val, y_val))\n",
        "plt.subplot(2, 1, 1)\n",
        "plt.plot(X_val, y_val, 'o', label='Original data')\n",
        "plt.plot(X_val, y_val_pred, '-', label='Fitted line')\n",
        "plt.xlabel(\"X\")\n",
        "plt.ylabel(\"y\")\n",
        "plt.legend()\n",
        "plt.show()\n",
        "\n",
        "theta_best_ridge = direct_ridge_regression(X, y, c)\n",
        "y_val_pred = X_val_b @ theta_best_ridge\n",
        "print(\"\\nOptimal theta using ridge regression:\", theta_best_ridge.flatten())\n",
        "print(\"Validation error normal of ridge regression: \", RMSE_2(theta_best_ridge, X_val, y_val))\n",
        "print(\"Validation error ridge of ridge regression: \", RMSE_ridge(theta_best_ridge, X_val, y_val, c))\n",
        "plt.subplot(2, 1, 2)\n",
        "plt.plot(X_val, y_val, 'o', label='Original data')\n",
        "plt.plot(X_val, y_val_pred, '-', label='Fitted line')\n",
        "plt.xlabel(\"X\")\n",
        "plt.ylabel(\"y\")\n",
        "plt.legend()\n",
        "plt.show()"
      ],
      "metadata": {
        "colab": {
          "base_uri": "https://localhost:8080/",
          "height": 583
        },
        "id": "uksuqv36QtPc",
        "outputId": "a6a6bb48-e605-454a-a576-f4d752614085"
      },
      "execution_count": 86,
      "outputs": [
        {
          "output_type": "stream",
          "name": "stdout",
          "text": [
            "Optimal theta of linear regression: [ 1.03766286 -7.90958662]\n",
            "Validation error of linear regression:  10.163245312570645\n"
          ]
        },
        {
          "output_type": "display_data",
          "data": {
            "text/plain": [
              "<Figure size 640x480 with 1 Axes>"
            ],
            "image/png": "[encoded data removed]"
          },
          "metadata": {}
        },
        {
          "output_type": "stream",
          "name": "stdout",
          "text": [
            "\n",
            "Optimal theta using ridge regression: [ 1.02444122 -6.26548574]\n",
            "Validation error normal of ridge regression:  9.691265569534263\n",
            "Validation error ridge of ridge regression:  10.094323483322201\n"
          ]
        },
        {
          "output_type": "display_data",
          "data": {
            "text/plain": [
              "<Figure size 640x480 with 1 Axes>"
            ],
            "image/png": "[encoded data removed]"
          },
          "metadata": {}
        }
      ]
    },
    {
      "cell_type": "markdown",
      "source": [
        "# W3: Gradient Descent"
      ],
      "metadata": {
        "id": "QHcjd_Xur3kR"
      }
    },
    {
      "cell_type": "markdown",
      "source": [
        "## Batch Gradient Descent"
      ],
      "metadata": {
        "id": "lVziaLGBl1Wd"
      }
    },
    {
      "cell_type": "code",
      "source": [
        "lr = 0.1\n",
        "n_epochs = 100\n",
        "theta = np.random.randn(2, 1)\n",
        "\n",
        "X = np.random.randint(1, 30, 20).reshape(-1, 1)\n",
        "X_b = np.c_[X, np.ones((len(X), 1))]\n",
        "y = f_real(X)\n",
        "n = len(X_b)\n",
        "\n",
        "print(X_b.shape, theta.shape, y.shape, X_b.T.shape)\n",
        "for epoch in range(n_epochs):\n",
        "  gradient = (2 / n) * X_b.T @ (X_b @ theta - y)\n",
        "  theta = theta - lr * gradient\n",
        "  if epoch % 10 == 0:\n",
        "    print(theta)"
      ],
      "metadata": {
        "colab": {
          "base_uri": "https://localhost:8080/"
        },
        "id": "nymtZUYAdAvL",
        "outputId": "da8287dc-4c9b-4b27-efcd-19ad407faf05"
      },
      "execution_count": 104,
      "outputs": [
        {
          "output_type": "stream",
          "name": "stdout",
          "text": [
            "(20, 2) (2, 1) (20, 1) (2, 20)\n",
            "[[47.72011303]\n",
            " [ 2.11628898]]\n",
            "[[5.37350252e+18]\n",
            " [2.94793773e+17]]\n",
            "[[6.13244812e+35]\n",
            " [3.36430012e+34]]\n",
            "[[6.99858608e+52]\n",
            " [3.83946893e+51]]\n",
            "[[7.98705610e+69]\n",
            " [4.38174988e+68]]\n",
            "[[9.11513617e+86]\n",
            " [5.00062180e+85]]\n",
            "[[1.04025446e+104]\n",
            " [5.70690227e+102]]\n",
            "[[1.18717847e+121]\n",
            " [6.51293677e+119]]\n",
            "[[1.35485382e+138]\n",
            " [7.43281439e+136]]\n",
            "[[1.54621138e+155]\n",
            " [8.48261418e+153]]\n"
          ]
        }
      ]
    }
  ]
}