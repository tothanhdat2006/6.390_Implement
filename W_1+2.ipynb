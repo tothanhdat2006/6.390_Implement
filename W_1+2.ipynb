{
  "nbformat": 4,
  "nbformat_minor": 0,
  "metadata": {
    "colab": {
      "provenance": []
    },
    "kernelspec": {
      "name": "python3",
      "display_name": "Python 3"
    },
    "language_info": {
      "name": "python"
    }
  },
  "cells": [
    {
      "cell_type": "code",
      "execution_count": 146,
      "metadata": {
        "id": "ksChZ0X27u89"
      },
      "outputs": [],
      "source": [
        "import numpy as np\n",
        "import matplotlib.pyplot as plt"
      ]
    },
    {
      "cell_type": "markdown",
      "source": [
        "# ***W1+2: Linear Regression***"
      ],
      "metadata": {
        "id": "AeYtzHaKM6yr"
      }
    },
    {
      "cell_type": "code",
      "source": [
        "theta = np.array([[0.3]])\n",
        "theta_0 = 1"
      ],
      "metadata": {
        "id": "5NnlbUIpGA82"
      },
      "execution_count": 147,
      "outputs": []
    },
    {
      "cell_type": "code",
      "source": [
        "def f_real(X):\n",
        "  return 0.05 * X**2 - 0.5*X + 1.5\n",
        "\n",
        "X = np.random.randint(1, 30, 20)\n",
        "y = f_real(X)"
      ],
      "metadata": {
        "id": "PiwUjyVpHD0m"
      },
      "execution_count": 148,
      "outputs": []
    },
    {
      "cell_type": "code",
      "source": [
        "y_pred = (theta * X + theta_0).flatten()\n",
        "\n",
        "plt.plot(X, y, 'o', label='Original data')\n",
        "plt.plot(X, y_pred, '-', label='Fitted line')\n",
        "plt.xlabel(\"X\")\n",
        "plt.ylabel(\"y\")\n",
        "plt.legend()\n",
        "plt.show()"
      ],
      "metadata": {
        "colab": {
          "base_uri": "https://localhost:8080/",
          "height": 449
        },
        "id": "cqfEpNkBKGGo",
        "outputId": "b5370b0c-ef62-45dc-d906-a444c7a893ae"
      },
      "execution_count": 149,
      "outputs": [
        {
          "output_type": "display_data",
          "data": {
            "text/plain": [
              "<Figure size 640x480 with 1 Axes>"
            ],
            "image/png": "[encoded data removed]"
          },
          "metadata": {}
        }
      ]
    },
    {
      "cell_type": "code",
      "source": [
        "X = X.reshape(-1, 1)"
      ],
      "metadata": {
        "id": "MM3Ixv4jMRU1"
      },
      "execution_count": 150,
      "outputs": []
    },
    {
      "cell_type": "code",
      "source": [
        "X.shape, theta.shape"
      ],
      "metadata": {
        "colab": {
          "base_uri": "https://localhost:8080/"
        },
        "id": "Ew2QeYRyGT8t",
        "outputId": "50ef7c48-59a0-45dc-eda0-77e2a12c5f42"
      },
      "execution_count": 151,
      "outputs": [
        {
          "output_type": "execute_result",
          "data": {
            "text/plain": [
              "((20, 1), (1, 1))"
            ]
          },
          "metadata": {},
          "execution_count": 151
        }
      ]
    },
    {
      "cell_type": "markdown",
      "source": [
        "## **Training error (RMSE) for linear regression**"
      ],
      "metadata": {
        "id": "_v6Ti-lSQhs8"
      }
    },
    {
      "cell_type": "code",
      "source": [
        "n = X.shape[0]\n",
        "y_pred = theta.T.dot(X) + theta_0"
      ],
      "metadata": {
        "colab": {
          "base_uri": "https://localhost:8080/",
          "height": 159
        },
        "id": "IylMZitbLiSk",
        "outputId": "e033496b-cd6a-4d00-827f-25c50366d650"
      },
      "execution_count": 152,
      "outputs": [
        {
          "output_type": "error",
          "ename": "ValueError",
          "evalue": "shapes (1,1) and (20,1) not aligned: 1 (dim 1) != 20 (dim 0)",
          "traceback": [
            "\u001b[0;31m---------------------------------------------------------------------------\u001b[0m",
            "\u001b[0;31mValueError\u001b[0m                                Traceback (most recent call last)",
            "\u001b[0;32m<ipython-input-152-e3a9c5ce967c>\u001b[0m in \u001b[0;36m<cell line: 2>\u001b[0;34m()\u001b[0m\n\u001b[1;32m      1\u001b[0m \u001b[0mn\u001b[0m \u001b[0;34m=\u001b[0m \u001b[0mX\u001b[0m\u001b[0;34m.\u001b[0m\u001b[0mshape\u001b[0m\u001b[0;34m[\u001b[0m\u001b[0;36m0\u001b[0m\u001b[0;34m]\u001b[0m\u001b[0;34m\u001b[0m\u001b[0;34m\u001b[0m\u001b[0m\n\u001b[0;32m----> 2\u001b[0;31m \u001b[0my_pred\u001b[0m \u001b[0;34m=\u001b[0m \u001b[0mtheta\u001b[0m\u001b[0;34m.\u001b[0m\u001b[0mT\u001b[0m\u001b[0;34m.\u001b[0m\u001b[0mdot\u001b[0m\u001b[0;34m(\u001b[0m\u001b[0mX\u001b[0m\u001b[0;34m)\u001b[0m \u001b[0;34m+\u001b[0m \u001b[0mtheta_0\u001b[0m\u001b[0;34m\u001b[0m\u001b[0;34m\u001b[0m\u001b[0m\n\u001b[0m",
            "\u001b[0;31mValueError\u001b[0m: shapes (1,1) and (20,1) not aligned: 1 (dim 1) != 20 (dim 0)"
          ]
        }
      ]
    },
    {
      "cell_type": "markdown",
      "source": [
        "`prompt: hint to write traning error of linear regression (no code)`\n",
        "\n",
        "import numpy as np\n",
        "The training error of a linear regression model is typically calculated as the mean squared error (MSE) between the predicted values (y_pred) and the actual values (y) in your training dataset.  You've already got most of the pieces:\n",
        "\n",
        "1. **Calculate the difference between predicted and actual values:**  `y_pred - y`\n",
        "\n",
        "2. **Square the differences:**  `(y_pred - y)**2`\n",
        "\n",
        "3. **Sum the squared differences:** `np.sum((y_pred - y)**2)`\n",
        "\n",
        "4. **Divide by the number of data points (n):** `1/n * ...`\n",
        "\n",
        "You're very close with the code you've already written! The issue lies in how you're using `theta`.  You need to ensure the matrix multiplication is correctly sized and that you're adding `theta_0` correctly.  Review the dimensions of `theta` and `X`, and how you incorporate the intercept (`theta_0`).\n"
      ],
      "metadata": {
        "id": "0iHwod8hOXmX"
      }
    },
    {
      "cell_type": "code",
      "source": [
        "y_pred = theta.T.dot(X.T) + theta_0"
      ],
      "metadata": {
        "id": "7HkINNicMrml"
      },
      "execution_count": 153,
      "outputs": []
    },
    {
      "cell_type": "markdown",
      "source": [
        "### Mistake 1: transpose X because of wrong dimension when initialized"
      ],
      "metadata": {
        "id": "ZSgVcovaQSiH"
      }
    },
    {
      "cell_type": "code",
      "source": [
        "def RMSE(theta, theta_0, X, y):\n",
        "    X = X.reshape(-1, 1)\n",
        "    y_pred = theta.T.dot(X.T) + theta_0\n",
        "    n = X.shape[0]\n",
        "    mse = (1 / n) * np.sum((y_pred.flatten() - y)**2)\n",
        "    return mse\n",
        "\n",
        "# Example usage:\n",
        "error = RMSE(theta, theta_0, X, y)\n",
        "print(f\"Training Error (MSE): {error}\")"
      ],
      "metadata": {
        "colab": {
          "base_uri": "https://localhost:8080/"
        },
        "id": "P-UKJ7M1NOOB",
        "outputId": "69348e93-c010-44e6-bad6-eb6eb4c7b0f5"
      },
      "execution_count": 154,
      "outputs": [
        {
          "output_type": "stream",
          "name": "stdout",
          "text": [
            "Training Error (MSE): 106.41212500000005\n"
          ]
        }
      ]
    },
    {
      "cell_type": "markdown",
      "source": [
        "## **Direct Solution**"
      ],
      "metadata": {
        "id": "ji8WSMXEQPiR"
      }
    },
    {
      "cell_type": "code",
      "source": [
        "X_T = X.reshape(-1, 1).T\n",
        "theta_optimal = np.linalg.inv(X_T.T.dot(X_T)).dot(X_T.T).dot(y)"
      ],
      "metadata": {
        "colab": {
          "base_uri": "https://localhost:8080/",
          "height": 304
        },
        "id": "0Z9mOB-SNx-k",
        "outputId": "934723f7-323b-4027-d77c-b698a17d50a1"
      },
      "execution_count": 130,
      "outputs": [
        {
          "output_type": "error",
          "ename": "LinAlgError",
          "evalue": "Singular matrix",
          "traceback": [
            "\u001b[0;31m---------------------------------------------------------------------------\u001b[0m",
            "\u001b[0;31mLinAlgError\u001b[0m                               Traceback (most recent call last)",
            "\u001b[0;32m<ipython-input-130-be534c9ae980>\u001b[0m in \u001b[0;36m<cell line: 2>\u001b[0;34m()\u001b[0m\n\u001b[1;32m      1\u001b[0m \u001b[0mX_T\u001b[0m \u001b[0;34m=\u001b[0m \u001b[0mX\u001b[0m\u001b[0;34m.\u001b[0m\u001b[0mreshape\u001b[0m\u001b[0;34m(\u001b[0m\u001b[0;34m-\u001b[0m\u001b[0;36m1\u001b[0m\u001b[0;34m,\u001b[0m \u001b[0;36m1\u001b[0m\u001b[0;34m)\u001b[0m\u001b[0;34m.\u001b[0m\u001b[0mT\u001b[0m\u001b[0;34m\u001b[0m\u001b[0;34m\u001b[0m\u001b[0m\n\u001b[0;32m----> 2\u001b[0;31m \u001b[0mtheta_optimal\u001b[0m \u001b[0;34m=\u001b[0m \u001b[0mnp\u001b[0m\u001b[0;34m.\u001b[0m\u001b[0mlinalg\u001b[0m\u001b[0;34m.\u001b[0m\u001b[0minv\u001b[0m\u001b[0;34m(\u001b[0m\u001b[0mX_T\u001b[0m\u001b[0;34m.\u001b[0m\u001b[0mT\u001b[0m\u001b[0;34m.\u001b[0m\u001b[0mdot\u001b[0m\u001b[0;34m(\u001b[0m\u001b[0mX_T\u001b[0m\u001b[0;34m)\u001b[0m\u001b[0;34m)\u001b[0m\u001b[0;34m.\u001b[0m\u001b[0mdot\u001b[0m\u001b[0;34m(\u001b[0m\u001b[0mX_T\u001b[0m\u001b[0;34m.\u001b[0m\u001b[0mT\u001b[0m\u001b[0;34m)\u001b[0m\u001b[0;34m.\u001b[0m\u001b[0mdot\u001b[0m\u001b[0;34m(\u001b[0m\u001b[0my\u001b[0m\u001b[0;34m)\u001b[0m\u001b[0;34m\u001b[0m\u001b[0;34m\u001b[0m\u001b[0m\n\u001b[0m",
            "\u001b[0;32m/usr/local/lib/python3.10/dist-packages/numpy/linalg/linalg.py\u001b[0m in \u001b[0;36minv\u001b[0;34m(a)\u001b[0m\n\u001b[1;32m    559\u001b[0m     \u001b[0msignature\u001b[0m \u001b[0;34m=\u001b[0m \u001b[0;34m'D->D'\u001b[0m \u001b[0;32mif\u001b[0m \u001b[0misComplexType\u001b[0m\u001b[0;34m(\u001b[0m\u001b[0mt\u001b[0m\u001b[0;34m)\u001b[0m \u001b[0;32melse\u001b[0m \u001b[0;34m'd->d'\u001b[0m\u001b[0;34m\u001b[0m\u001b[0;34m\u001b[0m\u001b[0m\n\u001b[1;32m    560\u001b[0m     \u001b[0mextobj\u001b[0m \u001b[0;34m=\u001b[0m \u001b[0mget_linalg_error_extobj\u001b[0m\u001b[0;34m(\u001b[0m\u001b[0m_raise_linalgerror_singular\u001b[0m\u001b[0;34m)\u001b[0m\u001b[0;34m\u001b[0m\u001b[0;34m\u001b[0m\u001b[0m\n\u001b[0;32m--> 561\u001b[0;31m     \u001b[0mainv\u001b[0m \u001b[0;34m=\u001b[0m \u001b[0m_umath_linalg\u001b[0m\u001b[0;34m.\u001b[0m\u001b[0minv\u001b[0m\u001b[0;34m(\u001b[0m\u001b[0ma\u001b[0m\u001b[0;34m,\u001b[0m \u001b[0msignature\u001b[0m\u001b[0;34m=\u001b[0m\u001b[0msignature\u001b[0m\u001b[0;34m,\u001b[0m \u001b[0mextobj\u001b[0m\u001b[0;34m=\u001b[0m\u001b[0mextobj\u001b[0m\u001b[0;34m)\u001b[0m\u001b[0;34m\u001b[0m\u001b[0;34m\u001b[0m\u001b[0m\n\u001b[0m\u001b[1;32m    562\u001b[0m     \u001b[0;32mreturn\u001b[0m \u001b[0mwrap\u001b[0m\u001b[0;34m(\u001b[0m\u001b[0mainv\u001b[0m\u001b[0;34m.\u001b[0m\u001b[0mastype\u001b[0m\u001b[0;34m(\u001b[0m\u001b[0mresult_t\u001b[0m\u001b[0;34m,\u001b[0m \u001b[0mcopy\u001b[0m\u001b[0;34m=\u001b[0m\u001b[0;32mFalse\u001b[0m\u001b[0;34m)\u001b[0m\u001b[0;34m)\u001b[0m\u001b[0;34m\u001b[0m\u001b[0;34m\u001b[0m\u001b[0m\n\u001b[1;32m    563\u001b[0m \u001b[0;34m\u001b[0m\u001b[0m\n",
            "\u001b[0;32m/usr/local/lib/python3.10/dist-packages/numpy/linalg/linalg.py\u001b[0m in \u001b[0;36m_raise_linalgerror_singular\u001b[0;34m(err, flag)\u001b[0m\n\u001b[1;32m    110\u001b[0m \u001b[0;34m\u001b[0m\u001b[0m\n\u001b[1;32m    111\u001b[0m \u001b[0;32mdef\u001b[0m \u001b[0m_raise_linalgerror_singular\u001b[0m\u001b[0;34m(\u001b[0m\u001b[0merr\u001b[0m\u001b[0;34m,\u001b[0m \u001b[0mflag\u001b[0m\u001b[0;34m)\u001b[0m\u001b[0;34m:\u001b[0m\u001b[0;34m\u001b[0m\u001b[0;34m\u001b[0m\u001b[0m\n\u001b[0;32m--> 112\u001b[0;31m     \u001b[0;32mraise\u001b[0m \u001b[0mLinAlgError\u001b[0m\u001b[0;34m(\u001b[0m\u001b[0;34m\"Singular matrix\"\u001b[0m\u001b[0;34m)\u001b[0m\u001b[0;34m\u001b[0m\u001b[0;34m\u001b[0m\u001b[0m\n\u001b[0m\u001b[1;32m    113\u001b[0m \u001b[0;34m\u001b[0m\u001b[0m\n\u001b[1;32m    114\u001b[0m \u001b[0;32mdef\u001b[0m \u001b[0m_raise_linalgerror_nonposdef\u001b[0m\u001b[0;34m(\u001b[0m\u001b[0merr\u001b[0m\u001b[0;34m,\u001b[0m \u001b[0mflag\u001b[0m\u001b[0;34m)\u001b[0m\u001b[0;34m:\u001b[0m\u001b[0;34m\u001b[0m\u001b[0;34m\u001b[0m\u001b[0m\n",
            "\u001b[0;31mLinAlgError\u001b[0m: Singular matrix"
          ]
        }
      ]
    },
    {
      "cell_type": "code",
      "source": [
        "import numpy as np\n",
        "\n",
        "def direct_linear_regression(X, y):\n",
        "    \"\"\"\n",
        "    Calculates the optimal theta using the direct solution for linear regression.\n",
        "\n",
        "    Args:\n",
        "        X: A NumPy array of shape (n_samples,) representing the input features.\n",
        "        y: A NumPy array of shape (n_samples,) representing the target values.\n",
        "\n",
        "    Returns:\n",
        "        A NumPy array representing the optimal theta values.\n",
        "        Returns None if the matrix is singular.\n",
        "    \"\"\"\n",
        "    X = X.reshape(-1, 1)  # Reshape X to be a column vector\n",
        "    X_b = np.c_[np.ones((len(X), 1)), X]  # Add a column of ones for the intercept\n",
        "    try:\n",
        "        theta_best = np.linalg.inv(X_b.T.dot(X_b)).dot(X_b.T).dot(y)\n",
        "        return theta_best\n",
        "    except np.linalg.LinAlgError:\n",
        "        print(\"Matrix is singular, cannot compute inverse.\")\n",
        "        return None\n",
        "\n",
        "X = np.random.randint(1, 30, 20)\n",
        "y = f_real(X)\n",
        "\n",
        "theta_best = direct_linear_regression(X, y)\n",
        "\n",
        "if theta_best is not None:\n",
        "    print(\"Optimal theta:\", theta_best)\n",
        "\n",
        "    X_val = np.random.randint(1, 30, 20)\n",
        "    y_val = f_real(X_val)\n",
        "\n",
        "    theta_cpy = np.array([theta_best])\n",
        "    theta = np.array([theta_cpy[0][:-1]])\n",
        "    theta_0 = theta_cpy[0][-1]\n",
        "    y_val_pred = (theta * X_val + theta_0).flatten()\n",
        "    print(theta, theta_0)\n",
        "\n",
        "    plt.plot(X_val, y_val, 'o', label='Original data')\n",
        "    plt.plot(X_val, y_val_pred, '-', label='Fitted line')\n",
        "    plt.xlabel(\"X\")\n",
        "    plt.ylabel(\"y\")\n",
        "    plt.legend()\n",
        "    plt.show()\n",
        "    print(\"Training error: \", RMSE(theta, theta_0, X_val, y_val))"
      ],
      "metadata": {
        "colab": {
          "base_uri": "https://localhost:8080/",
          "height": 501
        },
        "id": "ebF0XRhtPdoK",
        "outputId": "56d7a1a5-3bb0-4e98-a5a7-f6621355f219"
      },
      "execution_count": 155,
      "outputs": [
        {
          "output_type": "stream",
          "name": "stdout",
          "text": [
            "Optimal theta: [-6.9028842   1.04281102]\n",
            "[[-6.9028842]] 1.0428110202324585\n"
          ]
        },
        {
          "output_type": "display_data",
          "data": {
            "text/plain": [
              "<Figure size 640x480 with 1 Axes>"
            ],
            "image/png": "[encoded data removed]"
          },
          "metadata": {}
        },
        {
          "output_type": "stream",
          "name": "stdout",
          "text": [
            "Training error:  15484.064994686287\n"
          ]
        }
      ]
    },
    {
      "cell_type": "markdown",
      "source": [
        "### Mistake 2: Forget to add a column of ones for the intercept"
      ],
      "metadata": {
        "id": "O20iaLvqQCcb"
      }
    }
  ]
}